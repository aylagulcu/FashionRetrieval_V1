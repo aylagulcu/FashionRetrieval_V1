{
 "cells": [
  {
   "cell_type": "code",
   "execution_count": 1,
   "metadata": {},
   "outputs": [],
   "source": [
    "experiment_name= \"C2S_resnet34_semi_hard_margin_1_Ptr\""
   ]
  },
  {
   "cell_type": "markdown",
   "metadata": {},
   "source": []
  },
  {
   "cell_type": "code",
   "execution_count": 2,
   "metadata": {},
   "outputs": [],
   "source": [
    "import glob\n",
    "import cv2\n",
    "\n",
    "import matplotlib.pyplot as plt\n",
    "%matplotlib inline\n",
    "from pandas.core.common import flatten\n",
    "import numpy as np\n",
    "import random\n",
    "\n",
    "import torch\n",
    "from torch import nn\n",
    "from torch import optim\n",
    "import torch.nn.functional as F\n",
    "import torchvision\n",
    "from torchvision import datasets, transforms, models\n",
    "from torch.utils.data import Dataset, DataLoader\n",
    "\n",
    "import datasets\n",
    "import networks\n",
    "import utils"
   ]
  },
  {
   "cell_type": "code",
   "execution_count": 3,
   "metadata": {},
   "outputs": [],
   "source": [
    "#######################################################\n",
    "#                  Create Dataset\n",
    "#######################################################\n",
    "mean = [0.485, 0.456, 0.406]\n",
    "std = [0.229, 0.224, 0.225]\n",
    "\n",
    "'''\n",
    "transform = transforms.Compose([transforms.ToPILImage(),\n",
    "                                transforms.Resize(255),\n",
    "                                transforms.CenterCrop(224),\n",
    "                                transforms.ToTensor()\n",
    "                               ,\n",
    "                              transforms.Normalize(mean, std)\n",
    "                              ])\n",
    "''' \n",
    "\n",
    "transform = transforms.Compose([transforms.ToPILImage(),\n",
    "                                transforms.Resize(255),\n",
    "                                transforms.CenterCrop(224),\n",
    "                                transforms.ToTensor()])\n",
    "\n",
    "#######################################################\n",
    "#                  Create Train Dataset\n",
    "#######################################################\n",
    "dataset_train = datasets.DeepFashionBBoxDataset(img_dir=\"../DeepFashion_C2S/images\",train_path=\"../DeepFashion_C2S/DeepFashionDataset_train.csv\",mode=\"train\", transform= transform)\n",
    "\n",
    "#######################################################\n",
    "#                  Create Valid Dataset\n",
    "#######################################################\n",
    "dataset_valid = datasets.DeepFashionBBoxDataset(img_dir=\"../DeepFashion_C2S/images\",validation_path=\"../DeepFashion_C2S/DeepFashionDataset_validation.csv\",mode=\"validation\", transform= transform)\n",
    "\n",
    "#######################################################\n",
    "#                  Create Test Dataset\n",
    "#######################################################\n",
    "dataset_test = datasets.DeepFashionBBoxDataset(img_dir=\"../DeepFashion_C2S/images\",test_path=\"../DeepFashion_C2S/DeepFashionDataset_test.csv\",mode=\"test\", transform= transform)\n"
   ]
  },
  {
   "cell_type": "code",
   "execution_count": 4,
   "metadata": {},
   "outputs": [
    {
     "data": {
      "text/plain": [
       "159062"
      ]
     },
     "execution_count": 4,
     "metadata": {},
     "output_type": "execute_result"
    }
   ],
   "source": [
    "len(dataset_train)"
   ]
  },
  {
   "cell_type": "code",
   "execution_count": 5,
   "metadata": {},
   "outputs": [
    {
     "data": {
      "text/plain": [
       "17968"
      ]
     },
     "execution_count": 5,
     "metadata": {},
     "output_type": "execute_result"
    }
   ],
   "source": [
    "len(dataset_train.classes_set)"
   ]
  },
  {
   "cell_type": "code",
   "execution_count": 6,
   "metadata": {},
   "outputs": [
    {
     "data": {
      "text/plain": [
       "20106"
      ]
     },
     "execution_count": 6,
     "metadata": {},
     "output_type": "execute_result"
    }
   ],
   "source": [
    "len(dataset_valid)"
   ]
  },
  {
   "cell_type": "code",
   "execution_count": 7,
   "metadata": {},
   "outputs": [
    {
     "data": {
      "text/plain": [
       "array([ 0,  0,  0,  0,  0,  0,  0,  1,  1,  1,  1,  1,  1,  1,  2,  2,  2,\n",
       "        2,  3,  3,  3,  3,  4,  4,  4,  4,  4,  4,  5,  5,  5,  6,  6,  6,\n",
       "        7,  7,  7,  7,  7,  8,  8,  8,  8,  8,  8,  8,  8,  9,  9,  9,  9,\n",
       "        9,  9, 10, 10, 10, 10, 10, 10, 11, 11, 11, 12, 12, 12, 13, 13, 13,\n",
       "       13, 14, 14, 14, 15, 15, 15, 15, 15, 15, 15, 15, 15, 15, 16, 16, 16,\n",
       "       16, 17, 17, 17, 18, 18, 18, 18, 18, 18, 18, 18, 18, 18, 18])"
      ]
     },
     "execution_count": 7,
     "metadata": {},
     "output_type": "execute_result"
    }
   ],
   "source": [
    "dataset_train.labels[:100]"
   ]
  },
  {
   "cell_type": "code",
   "execution_count": 8,
   "metadata": {},
   "outputs": [
    {
     "data": {
      "text/plain": [
       "['CLOTHING/Blouse/id_00005025/comsumer_01.jpg',\n",
       " 'CLOTHING/Blouse/id_00005025/comsumer_02.jpg',\n",
       " 'CLOTHING/Blouse/id_00005025/comsumer_03.jpg',\n",
       " 'CLOTHING/Blouse/id_00005025/comsumer_04.jpg',\n",
       " 'CLOTHING/Blouse/id_00005025/comsumer_05.jpg']"
      ]
     },
     "execution_count": 8,
     "metadata": {},
     "output_type": "execute_result"
    }
   ],
   "source": [
    "dataset_train.data[:5]"
   ]
  },
  {
   "cell_type": "code",
   "execution_count": 9,
   "metadata": {},
   "outputs": [
    {
     "data": {
      "text/plain": [
       "['CLOTHING/Blouse/id_00005025',\n",
       " 'CLOTHING/Blouse/id_00005025',\n",
       " 'CLOTHING/Blouse/id_00005025',\n",
       " 'CLOTHING/Blouse/id_00005025',\n",
       " 'CLOTHING/Blouse/id_00005025']"
      ]
     },
     "execution_count": 9,
     "metadata": {},
     "output_type": "execute_result"
    }
   ],
   "source": [
    "dataset_train.classes[:5]"
   ]
  },
  {
   "cell_type": "code",
   "execution_count": 12,
   "metadata": {},
   "outputs": [],
   "source": [
    "batch_size= 4\n",
    "train_loader = torch.utils.data.DataLoader(dataset_train, batch_size=batch_size, shuffle=True)\n",
    "\n",
    "# Visualize some sample data\n",
    "# obtain one batch of training images\n",
    "dataiter = iter(train_loader)\n",
    "images, labels = next(dataiter)\n",
    "images = images.numpy() # convert images to numpy for display"
   ]
  },
  {
   "cell_type": "code",
   "execution_count": 13,
   "metadata": {},
   "outputs": [
    {
     "data": {
      "text/plain": [
       "(4, 3, 224, 224)"
      ]
     },
     "execution_count": 13,
     "metadata": {},
     "output_type": "execute_result"
    }
   ],
   "source": [
    "images.shape"
   ]
  },
  {
   "cell_type": "code",
   "execution_count": 14,
   "metadata": {},
   "outputs": [
    {
     "data": {
      "text/plain": [
       "tensor([5138, 5002, 7359, 1084])"
      ]
     },
     "execution_count": 14,
     "metadata": {},
     "output_type": "execute_result"
    }
   ],
   "source": [
    "labels"
   ]
  },
  {
   "cell_type": "code",
   "execution_count": 15,
   "metadata": {},
   "outputs": [
    {
     "name": "stdout",
     "output_type": "stream",
     "text": [
      "['TOPS/Lace_Shirt/id_00020489', 'TOPS/Lace_Shirt/id_00013462', 'TOPS/Summer_Wear/id_00010895', 'CLOTHING/T_Shirt/id_00030958']\n"
     ]
    }
   ],
   "source": [
    "# labels to class names:\n",
    "print([dataset_train.classes_set[i.item()] for i in labels ])"
   ]
  },
  {
   "cell_type": "code",
   "execution_count": 16,
   "metadata": {},
   "outputs": [
    {
     "data": {
      "image/png": "[encoded data removed]",
      "text/plain": [
       "<Figure size 576x576 with 4 Axes>"
      ]
     },
     "metadata": {},
     "output_type": "display_data"
    }
   ],
   "source": [
    "# plot the images in the batch, along with the corresponding labels\n",
    "fig = plt.figure(figsize=(8, 8))\n",
    "for idx in np.arange(batch_size):\n",
    "    ax = fig.add_subplot(2, batch_size//2, idx+1, xticks=[], yticks=[])\n",
    "    plt.imshow(np.transpose(images[idx], (1, 2, 0)))\n",
    "    ax.set_title(train_loader.dataset.classes_set[labels[idx].item()], fontfamily='serif', loc='left', fontsize='medium', color= 'red')\n",
    "    "
   ]
  },
  {
   "cell_type": "code",
   "execution_count": 17,
   "metadata": {},
   "outputs": [
    {
     "name": "stdout",
     "output_type": "stream",
     "text": [
      "CUDA is available!  Training on GPU ...\n"
     ]
    }
   ],
   "source": [
    "# check if CUDA is available\n",
    "cuda = torch.cuda.is_available()\n",
    "\n",
    "if not cuda:\n",
    "    print('CUDA is not available.  Training on CPU ...')\n",
    "else:\n",
    "    print('CUDA is available!  Training on GPU ...')"
   ]
  },
  {
   "cell_type": "markdown",
   "metadata": {},
   "source": [
    "# Online pair/triplet selection - negative mining\n",
    "There are couple of problems with siamese and triplet networks.\n",
    "1. The number of possible pairs/triplets grows **quadratically/cubically** with the number of examples. It's infeasible to process them all\n",
    "2. We generate pairs/triplets randomly. As the training continues, more and more pairs/triplets are easy to deal with (their loss value is very small or even 0), preventing the network from training. We need to provide the network with **hard examples**.\n",
    "3. Each image that is fed to the network is used only for computation of contrastive/triplet loss for only one pair/triplet. The computation is somewhat wasted; once the embedding is computed, it could be reused for many pairs/triplets.\n",
    "\n",
    "To deal with that efficiently, we'll feed a network with standard mini-batches as we did for classification. The loss function will be responsible for selection of hard pairs and triplets within mini-batch. In these case, if we feed the network with 16 images per 10 classes, we can process up to $159*160/2 = 12720$ pairs and $10*16*15/2*(9*16) = 172800$ triplets, compared to 80 pairs and 53 triplets in previous implementation.\n",
    "\n",
    "We can find some strategies on how to select triplets in [2] and [3] *Alexander Hermans, Lucas Beyer, Bastian Leibe, [In Defense of the Triplet Loss for Person Re-Identification](https://arxiv.org/pdf/1703.07737), 2017*"
   ]
  },
  {
   "cell_type": "markdown",
   "metadata": {},
   "source": [
    "## Online triplet selection\n",
    "## Steps\n",
    "1. Create **BalancedBatchSampler** - samples $N$ classes and $M$ samples *datasets.py*\n",
    "2. Create data loaders with the batch sampler\n",
    "3. Define **embedding** *(mapping)* network $f(x)$ - **EmbeddingNet** from *networks.py*\n",
    "4. Define a **TripletSelector** that takes embeddings and original labels and returns valid triplets within a minibatch\n",
    "5. Define **OnlineTripletLoss** that will use a *TripletSelector* and compute *TripletLoss* on such pairs\n",
    "6. Train the network!"
   ]
  },
  {
   "cell_type": "code",
   "execution_count": 18,
   "metadata": {},
   "outputs": [
    {
     "data": {
      "text/plain": [
       "array([    0,     0,     0, ..., 17967, 17967, 17967])"
      ]
     },
     "execution_count": 18,
     "metadata": {},
     "output_type": "execute_result"
    }
   ],
   "source": [
    "dataset_train.labels"
   ]
  },
  {
   "cell_type": "code",
   "execution_count": 19,
   "metadata": {},
   "outputs": [],
   "source": [
    "from datasets import BalancedBatchSampler\n",
    "\n",
    "# A mini batch is created by sampling n_classes and n_samples from each class:\n",
    "train_batch_sampler = BalancedBatchSampler(dataset_train.labels, n_classes=20, n_samples=30)\n",
    "valid_batch_sampler = BalancedBatchSampler(dataset_valid.labels, n_classes=20, n_samples=30)"
   ]
  },
  {
   "cell_type": "code",
   "execution_count": 30,
   "metadata": {},
   "outputs": [
    {
     "data": {
      "text/plain": [
       "<datasets.BalancedBatchSampler at 0x7fc2968ac970>"
      ]
     },
     "execution_count": 30,
     "metadata": {},
     "output_type": "execute_result"
    }
   ],
   "source": [
    "train_batch_sampler"
   ]
  },
  {
   "cell_type": "code",
   "execution_count": 31,
   "metadata": {},
   "outputs": [
    {
     "data": {
      "text/plain": [
       "<datasets.BalancedBatchSampler at 0x7fc297357df0>"
      ]
     },
     "execution_count": 31,
     "metadata": {},
     "output_type": "execute_result"
    }
   ],
   "source": [
    "valid_batch_sampler"
   ]
  },
  {
   "cell_type": "code",
   "execution_count": 32,
   "metadata": {},
   "outputs": [],
   "source": [
    "online_train_loader = torch.utils.data.DataLoader(dataset_train, batch_sampler=train_batch_sampler)\n",
    "online_valid_loader = torch.utils.data.DataLoader(dataset_valid, batch_sampler=valid_batch_sampler)"
   ]
  },
  {
   "cell_type": "markdown",
   "metadata": {},
   "source": [
    "# Use pre-trained model on Kaggle Fashion items"
   ]
  },
  {
   "cell_type": "code",
   "execution_count": null,
   "metadata": {},
   "outputs": [],
   "source": [
    "# Load the pretrained model from pytorch\n",
    "embedding_net= torchvision.models.resnet34(pretrained=False)\n",
    "\n",
    "embedding_net.fc= nn.Sequential(nn.Linear(512, 128),\n",
    "                                nn.BatchNorm1d(128),\n",
    "                                nn.ReLU(),\n",
    "                                nn.Linear(128, 47) # Kaggle fashion items included 47 classes\n",
    "                                )\n",
    "\n",
    "experiment_name= \"KaggleFashion_pretrain_classification_resnet34\"\n",
    "PATH= './Results/'+experiment_name+'_100epoch.pt'\n",
    "\n",
    "check_point= torch.load(PATH)\n",
    "embedding_net.load_state_dict(check_point['model_state_dict'])\n"
   ]
  },
  {
   "cell_type": "code",
   "execution_count": null,
   "metadata": {},
   "outputs": [],
   "source": [
    "# Modify the final layer of the embedding network:\n",
    "embedding_net.fc= nn.Sequential(nn.Linear(512, 256),\n",
    "                                nn.BatchNorm1d(256),\n",
    "                                nn.ReLU(),\n",
    "                                nn.Linear(256, 256), # embedding size 256\n",
    "                                )\n",
    "\n",
    "# Un-Freeze training for all layers parameters:\n",
    "for param in embedding_net.parameters():\n",
    "    param.required_grad = True    "
   ]
  },
  {
   "cell_type": "code",
   "execution_count": 44,
   "metadata": {},
   "outputs": [],
   "source": [
    "model= networks.TripletNet(embedding_net)"
   ]
  },
  {
   "cell_type": "code",
   "execution_count": 45,
   "metadata": {},
   "outputs": [],
   "source": [
    "from losses import OnlineTripletLoss\n",
    "# Strategies for selecting triplets within a minibatch:\n",
    "from utils import AllTripletSelector,HardestNegativeTripletSelector, RandomNegativeTripletSelector, SemihardNegativeTripletSelector \n",
    "\n",
    "margin = 1\n",
    "loss_fn = OnlineTripletLoss(margin, SemihardNegativeTripletSelector(margin))"
   ]
  },
  {
   "cell_type": "code",
   "execution_count": 46,
   "metadata": {},
   "outputs": [],
   "source": [
    "import torch.optim as optim\n",
    "optimizer = optim.Adam(model.embedding_net.parameters(), lr=1e-3)"
   ]
  },
  {
   "cell_type": "code",
   "execution_count": 47,
   "metadata": {},
   "outputs": [
    {
     "data": {
      "text/plain": [
       "TripletNet(\n",
       "  (embedding_net): ResNet(\n",
       "    (conv1): Conv2d(3, 64, kernel_size=(7, 7), stride=(2, 2), padding=(3, 3), bias=False)\n",
       "    (bn1): BatchNorm2d(64, eps=1e-05, momentum=0.1, affine=True, track_running_stats=True)\n",
       "    (relu): ReLU(inplace=True)\n",
       "    (maxpool): MaxPool2d(kernel_size=3, stride=2, padding=1, dilation=1, ceil_mode=False)\n",
       "    (layer1): Sequential(\n",
       "      (0): BasicBlock(\n",
       "        (conv1): Conv2d(64, 64, kernel_size=(3, 3), stride=(1, 1), padding=(1, 1), bias=False)\n",
       "        (bn1): BatchNorm2d(64, eps=1e-05, momentum=0.1, affine=True, track_running_stats=True)\n",
       "        (relu): ReLU(inplace=True)\n",
       "        (conv2): Conv2d(64, 64, kernel_size=(3, 3), stride=(1, 1), padding=(1, 1), bias=False)\n",
       "        (bn2): BatchNorm2d(64, eps=1e-05, momentum=0.1, affine=True, track_running_stats=True)\n",
       "      )\n",
       "      (1): BasicBlock(\n",
       "        (conv1): Conv2d(64, 64, kernel_size=(3, 3), stride=(1, 1), padding=(1, 1), bias=False)\n",
       "        (bn1): BatchNorm2d(64, eps=1e-05, momentum=0.1, affine=True, track_running_stats=True)\n",
       "        (relu): ReLU(inplace=True)\n",
       "        (conv2): Conv2d(64, 64, kernel_size=(3, 3), stride=(1, 1), padding=(1, 1), bias=False)\n",
       "        (bn2): BatchNorm2d(64, eps=1e-05, momentum=0.1, affine=True, track_running_stats=True)\n",
       "      )\n",
       "      (2): BasicBlock(\n",
       "        (conv1): Conv2d(64, 64, kernel_size=(3, 3), stride=(1, 1), padding=(1, 1), bias=False)\n",
       "        (bn1): BatchNorm2d(64, eps=1e-05, momentum=0.1, affine=True, track_running_stats=True)\n",
       "        (relu): ReLU(inplace=True)\n",
       "        (conv2): Conv2d(64, 64, kernel_size=(3, 3), stride=(1, 1), padding=(1, 1), bias=False)\n",
       "        (bn2): BatchNorm2d(64, eps=1e-05, momentum=0.1, affine=True, track_running_stats=True)\n",
       "      )\n",
       "    )\n",
       "    (layer2): Sequential(\n",
       "      (0): BasicBlock(\n",
       "        (conv1): Conv2d(64, 128, kernel_size=(3, 3), stride=(2, 2), padding=(1, 1), bias=False)\n",
       "        (bn1): BatchNorm2d(128, eps=1e-05, momentum=0.1, affine=True, track_running_stats=True)\n",
       "        (relu): ReLU(inplace=True)\n",
       "        (conv2): Conv2d(128, 128, kernel_size=(3, 3), stride=(1, 1), padding=(1, 1), bias=False)\n",
       "        (bn2): BatchNorm2d(128, eps=1e-05, momentum=0.1, affine=True, track_running_stats=True)\n",
       "        (downsample): Sequential(\n",
       "          (0): Conv2d(64, 128, kernel_size=(1, 1), stride=(2, 2), bias=False)\n",
       "          (1): BatchNorm2d(128, eps=1e-05, momentum=0.1, affine=True, track_running_stats=True)\n",
       "        )\n",
       "      )\n",
       "      (1): BasicBlock(\n",
       "        (conv1): Conv2d(128, 128, kernel_size=(3, 3), stride=(1, 1), padding=(1, 1), bias=False)\n",
       "        (bn1): BatchNorm2d(128, eps=1e-05, momentum=0.1, affine=True, track_running_stats=True)\n",
       "        (relu): ReLU(inplace=True)\n",
       "        (conv2): Conv2d(128, 128, kernel_size=(3, 3), stride=(1, 1), padding=(1, 1), bias=False)\n",
       "        (bn2): BatchNorm2d(128, eps=1e-05, momentum=0.1, affine=True, track_running_stats=True)\n",
       "      )\n",
       "      (2): BasicBlock(\n",
       "        (conv1): Conv2d(128, 128, kernel_size=(3, 3), stride=(1, 1), padding=(1, 1), bias=False)\n",
       "        (bn1): BatchNorm2d(128, eps=1e-05, momentum=0.1, affine=True, track_running_stats=True)\n",
       "        (relu): ReLU(inplace=True)\n",
       "        (conv2): Conv2d(128, 128, kernel_size=(3, 3), stride=(1, 1), padding=(1, 1), bias=False)\n",
       "        (bn2): BatchNorm2d(128, eps=1e-05, momentum=0.1, affine=True, track_running_stats=True)\n",
       "      )\n",
       "      (3): BasicBlock(\n",
       "        (conv1): Conv2d(128, 128, kernel_size=(3, 3), stride=(1, 1), padding=(1, 1), bias=False)\n",
       "        (bn1): BatchNorm2d(128, eps=1e-05, momentum=0.1, affine=True, track_running_stats=True)\n",
       "        (relu): ReLU(inplace=True)\n",
       "        (conv2): Conv2d(128, 128, kernel_size=(3, 3), stride=(1, 1), padding=(1, 1), bias=False)\n",
       "        (bn2): BatchNorm2d(128, eps=1e-05, momentum=0.1, affine=True, track_running_stats=True)\n",
       "      )\n",
       "    )\n",
       "    (layer3): Sequential(\n",
       "      (0): BasicBlock(\n",
       "        (conv1): Conv2d(128, 256, kernel_size=(3, 3), stride=(2, 2), padding=(1, 1), bias=False)\n",
       "        (bn1): BatchNorm2d(256, eps=1e-05, momentum=0.1, affine=True, track_running_stats=True)\n",
       "        (relu): ReLU(inplace=True)\n",
       "        (conv2): Conv2d(256, 256, kernel_size=(3, 3), stride=(1, 1), padding=(1, 1), bias=False)\n",
       "        (bn2): BatchNorm2d(256, eps=1e-05, momentum=0.1, affine=True, track_running_stats=True)\n",
       "        (downsample): Sequential(\n",
       "          (0): Conv2d(128, 256, kernel_size=(1, 1), stride=(2, 2), bias=False)\n",
       "          (1): BatchNorm2d(256, eps=1e-05, momentum=0.1, affine=True, track_running_stats=True)\n",
       "        )\n",
       "      )\n",
       "      (1): BasicBlock(\n",
       "        (conv1): Conv2d(256, 256, kernel_size=(3, 3), stride=(1, 1), padding=(1, 1), bias=False)\n",
       "        (bn1): BatchNorm2d(256, eps=1e-05, momentum=0.1, affine=True, track_running_stats=True)\n",
       "        (relu): ReLU(inplace=True)\n",
       "        (conv2): Conv2d(256, 256, kernel_size=(3, 3), stride=(1, 1), padding=(1, 1), bias=False)\n",
       "        (bn2): BatchNorm2d(256, eps=1e-05, momentum=0.1, affine=True, track_running_stats=True)\n",
       "      )\n",
       "      (2): BasicBlock(\n",
       "        (conv1): Conv2d(256, 256, kernel_size=(3, 3), stride=(1, 1), padding=(1, 1), bias=False)\n",
       "        (bn1): BatchNorm2d(256, eps=1e-05, momentum=0.1, affine=True, track_running_stats=True)\n",
       "        (relu): ReLU(inplace=True)\n",
       "        (conv2): Conv2d(256, 256, kernel_size=(3, 3), stride=(1, 1), padding=(1, 1), bias=False)\n",
       "        (bn2): BatchNorm2d(256, eps=1e-05, momentum=0.1, affine=True, track_running_stats=True)\n",
       "      )\n",
       "      (3): BasicBlock(\n",
       "        (conv1): Conv2d(256, 256, kernel_size=(3, 3), stride=(1, 1), padding=(1, 1), bias=False)\n",
       "        (bn1): BatchNorm2d(256, eps=1e-05, momentum=0.1, affine=True, track_running_stats=True)\n",
       "        (relu): ReLU(inplace=True)\n",
       "        (conv2): Conv2d(256, 256, kernel_size=(3, 3), stride=(1, 1), padding=(1, 1), bias=False)\n",
       "        (bn2): BatchNorm2d(256, eps=1e-05, momentum=0.1, affine=True, track_running_stats=True)\n",
       "      )\n",
       "      (4): BasicBlock(\n",
       "        (conv1): Conv2d(256, 256, kernel_size=(3, 3), stride=(1, 1), padding=(1, 1), bias=False)\n",
       "        (bn1): BatchNorm2d(256, eps=1e-05, momentum=0.1, affine=True, track_running_stats=True)\n",
       "        (relu): ReLU(inplace=True)\n",
       "        (conv2): Conv2d(256, 256, kernel_size=(3, 3), stride=(1, 1), padding=(1, 1), bias=False)\n",
       "        (bn2): BatchNorm2d(256, eps=1e-05, momentum=0.1, affine=True, track_running_stats=True)\n",
       "      )\n",
       "      (5): BasicBlock(\n",
       "        (conv1): Conv2d(256, 256, kernel_size=(3, 3), stride=(1, 1), padding=(1, 1), bias=False)\n",
       "        (bn1): BatchNorm2d(256, eps=1e-05, momentum=0.1, affine=True, track_running_stats=True)\n",
       "        (relu): ReLU(inplace=True)\n",
       "        (conv2): Conv2d(256, 256, kernel_size=(3, 3), stride=(1, 1), padding=(1, 1), bias=False)\n",
       "        (bn2): BatchNorm2d(256, eps=1e-05, momentum=0.1, affine=True, track_running_stats=True)\n",
       "      )\n",
       "    )\n",
       "    (layer4): Sequential(\n",
       "      (0): BasicBlock(\n",
       "        (conv1): Conv2d(256, 512, kernel_size=(3, 3), stride=(2, 2), padding=(1, 1), bias=False)\n",
       "        (bn1): BatchNorm2d(512, eps=1e-05, momentum=0.1, affine=True, track_running_stats=True)\n",
       "        (relu): ReLU(inplace=True)\n",
       "        (conv2): Conv2d(512, 512, kernel_size=(3, 3), stride=(1, 1), padding=(1, 1), bias=False)\n",
       "        (bn2): BatchNorm2d(512, eps=1e-05, momentum=0.1, affine=True, track_running_stats=True)\n",
       "        (downsample): Sequential(\n",
       "          (0): Conv2d(256, 512, kernel_size=(1, 1), stride=(2, 2), bias=False)\n",
       "          (1): BatchNorm2d(512, eps=1e-05, momentum=0.1, affine=True, track_running_stats=True)\n",
       "        )\n",
       "      )\n",
       "      (1): BasicBlock(\n",
       "        (conv1): Conv2d(512, 512, kernel_size=(3, 3), stride=(1, 1), padding=(1, 1), bias=False)\n",
       "        (bn1): BatchNorm2d(512, eps=1e-05, momentum=0.1, affine=True, track_running_stats=True)\n",
       "        (relu): ReLU(inplace=True)\n",
       "        (conv2): Conv2d(512, 512, kernel_size=(3, 3), stride=(1, 1), padding=(1, 1), bias=False)\n",
       "        (bn2): BatchNorm2d(512, eps=1e-05, momentum=0.1, affine=True, track_running_stats=True)\n",
       "      )\n",
       "      (2): BasicBlock(\n",
       "        (conv1): Conv2d(512, 512, kernel_size=(3, 3), stride=(1, 1), padding=(1, 1), bias=False)\n",
       "        (bn1): BatchNorm2d(512, eps=1e-05, momentum=0.1, affine=True, track_running_stats=True)\n",
       "        (relu): ReLU(inplace=True)\n",
       "        (conv2): Conv2d(512, 512, kernel_size=(3, 3), stride=(1, 1), padding=(1, 1), bias=False)\n",
       "        (bn2): BatchNorm2d(512, eps=1e-05, momentum=0.1, affine=True, track_running_stats=True)\n",
       "      )\n",
       "    )\n",
       "    (avgpool): AdaptiveAvgPool2d(output_size=(1, 1))\n",
       "    (fc): Sequential(\n",
       "      (0): Linear(in_features=512, out_features=256, bias=True)\n",
       "      (1): BatchNorm1d(256, eps=1e-05, momentum=0.1, affine=True, track_running_stats=True)\n",
       "      (2): ReLU()\n",
       "      (3): Linear(in_features=256, out_features=256, bias=True)\n",
       "    )\n",
       "  )\n",
       ")"
      ]
     },
     "execution_count": 47,
     "metadata": {},
     "output_type": "execute_result"
    }
   ],
   "source": [
    "device = torch.device('cuda')\n",
    "model.to(device)"
   ]
  },
  {
   "cell_type": "code",
   "execution_count": 48,
   "metadata": {},
   "outputs": [],
   "source": [
    "def train_epoch(train_loader, model, loss_fn, optimizer, log_interval, cuda):\n",
    "\n",
    "    ###################\n",
    "    # train the model #\n",
    "    ###################\n",
    "    model.train()\n",
    "\n",
    "   # keep track of training loss\n",
    "    train_loss = 0.0\n",
    "    losses = []\n",
    "\n",
    "    for batch_idx, (data, target) in enumerate(train_loader):\n",
    "\n",
    "        target = target if len(target) > 0 else None\n",
    "        if not type(data) in (tuple, list):\n",
    "            data = (data,)\n",
    "        \n",
    "        # move tensors to GPU if CUDA is available\n",
    "        if cuda:\n",
    "            data = tuple(d.to(device) for d in data)\n",
    "            if target is not None:\n",
    "                target = tuple(t.to(device) for t in target)\n",
    "\n",
    "        # clear the gradients of all optimized variables\n",
    "        optimizer.zero_grad()\n",
    "        \n",
    "        # forward pass: create embeddings of the inputs\n",
    "        outputs = model.get_embedding(*data)\n",
    "\n",
    "        if type(outputs) not in (tuple, list):\n",
    "            outputs = (outputs,)\n",
    "\n",
    "        loss_inputs = outputs\n",
    "        if target is not None:\n",
    "            target = (target,)\n",
    "            loss_inputs += target\n",
    "\n",
    "        # append targets to the end of the embeddings, and calculate the batch loss\n",
    "        loss_outputs = loss_fn(*loss_inputs)\n",
    "        \n",
    "        loss = loss_outputs[0] if type(loss_outputs) in (tuple, list) else loss_outputs\n",
    "        \n",
    "        # backward pass: compute gradient of the loss with respect to model parameters\n",
    "        loss.backward()\n",
    "        \n",
    "        # perform a single optimization step (parameter update)\n",
    "        optimizer.step()\n",
    "        \n",
    "        # update training loss\n",
    "        train_loss += loss.item()\n",
    "\n",
    "        losses.append(loss.item())\n",
    "        \n",
    "        # Provide some feedbach within one epoch\n",
    "        if batch_idx % log_interval == 0:\n",
    "            print('Train: [{}/{} ({:.0f}%)]\\tLoss: {:.6f}'.format(\n",
    "                batch_idx * len(data[0]), len(train_loader.dataset),\n",
    "                100. * batch_idx / len(train_loader), np.mean(losses)))\n",
    "            losses = []\n",
    "\n",
    "    # calculate average train loss (batch average is returned)\n",
    "    train_loss /= (batch_idx + 1)\n",
    "    \n",
    "    return train_loss"
   ]
  },
  {
   "cell_type": "code",
   "execution_count": 49,
   "metadata": {},
   "outputs": [],
   "source": [
    "def test_epoch(val_loader, model, loss_fn, cuda):\n",
    "    \n",
    "    ######################    \n",
    "    # validate the model #\n",
    "    ######################\n",
    "    \n",
    "    # keep track of validation loss\n",
    "    valid_loss = 0.0\n",
    "    \n",
    "    with torch.no_grad():\n",
    "\n",
    "        model.eval()\n",
    "        for batch_idx, (data, target) in enumerate(val_loader):\n",
    "            data= data.float() # cast to float\n",
    "\n",
    "            target = target if len(target) > 0 else None\n",
    "            if not type(data) in (tuple, list):\n",
    "                data = (data,)\n",
    "            \n",
    "            if cuda:\n",
    "                data = tuple(d.to(device) for d in data)\n",
    "                if target is not None:\n",
    "                    target = tuple(t.to(device) for t in target)\n",
    "            \n",
    "            outputs = model.get_embedding(*data)\n",
    "\n",
    "            if type(outputs) not in (tuple, list):\n",
    "                outputs = (outputs,)\n",
    "                \n",
    "            loss_inputs = outputs\n",
    "            if target is not None:\n",
    "                target = (target,)\n",
    "                loss_inputs += target\n",
    "\n",
    "            loss_outputs = loss_fn(*loss_inputs)\n",
    "            loss = loss_outputs[0] if type(loss_outputs) in (tuple, list) else loss_outputs\n",
    "            \n",
    "            # update average validation loss \n",
    "            valid_loss += loss.item()\n",
    "            \n",
    "    # calculate average validation loss (batch average is returned)\n",
    "    valid_loss /= (batch_idx + 1)\n",
    "\n",
    "    return valid_loss"
   ]
  },
  {
   "cell_type": "code",
   "execution_count": 52,
   "metadata": {},
   "outputs": [],
   "source": [
    "def save_model(EPOCH, model, optimizer, LOSS): # epoch and loss are numbers\n",
    "    \"\"\"\n",
    "    Save the trained model and the optimizer to disk.\n",
    "    \"\"\"      \n",
    "    torch.save({\n",
    "                'epoch': EPOCH,\n",
    "                'model_state_dict': model.embedding_net.state_dict(),\n",
    "                'optimizer_state_dict': optimizer.state_dict(),\n",
    "                'loss': LOSS,\n",
    "                }, experiment_name+'.pt')"
   ]
  },
  {
   "cell_type": "code",
   "execution_count": 53,
   "metadata": {},
   "outputs": [
    {
     "name": "stdout",
     "output_type": "stream",
     "text": [
      "Train: [0/159062 (0%)]\tLoss: 0.554896\n",
      "Train: [11800/159062 (19%)]\tLoss: 0.528624\n",
      "Train: [25700/159062 (38%)]\tLoss: 0.509147\n",
      "Train: [26250/159062 (57%)]\tLoss: 0.516891\n",
      "Train: [38000/159062 (75%)]\tLoss: 0.519479\n",
      "Train: [37000/159062 (94%)]\tLoss: 0.510668\n",
      "Epoch: Epoch: 1/75 \tTraining Loss: 0.517035 \tValidation Loss: 0.533383\n",
      "Validation loss decreased (inf --> 0.533383).  Saving model ...\n",
      "Train: [0/159062 (0%)]\tLoss: 0.492390\n",
      "Train: [9400/159062 (19%)]\tLoss: 0.518471\n",
      "Train: [18300/159062 (38%)]\tLoss: 0.513980\n",
      "Train: [32700/159062 (57%)]\tLoss: 0.516213\n",
      "Train: [37000/159062 (75%)]\tLoss: 0.507156\n",
      "Train: [60000/159062 (94%)]\tLoss: 0.519055\n",
      "Epoch: Epoch: 2/75 \tTraining Loss: 0.515345 \tValidation Loss: 0.506877\n",
      "Validation loss decreased (0.533383 --> 0.506877).  Saving model ...\n",
      "Train: [0/159062 (0%)]\tLoss: 0.480982\n",
      "Train: [8450/159062 (19%)]\tLoss: 0.523729\n",
      "Train: [14400/159062 (38%)]\tLoss: 0.515828\n",
      "Train: [27300/159062 (57%)]\tLoss: 0.507582\n",
      "Train: [43600/159062 (75%)]\tLoss: 0.509293\n",
      "Train: [51750/159062 (94%)]\tLoss: 0.504064\n",
      "Epoch: Epoch: 3/75 \tTraining Loss: 0.511814 \tValidation Loss: 0.509356\n",
      "Train: [0/159062 (0%)]\tLoss: 0.505433\n",
      "Train: [9100/159062 (19%)]\tLoss: 0.511312\n",
      "Train: [17500/159062 (38%)]\tLoss: 0.510591\n",
      "Train: [35250/159062 (57%)]\tLoss: 0.504253\n",
      "Train: [31200/159062 (75%)]\tLoss: 0.505057\n",
      "Train: [53250/159062 (94%)]\tLoss: 0.506585\n",
      "Epoch: Epoch: 4/75 \tTraining Loss: 0.507484 \tValidation Loss: 0.507654\n",
      "Train: [0/159062 (0%)]\tLoss: 0.457924\n",
      "Train: [9450/159062 (19%)]\tLoss: 0.509334\n",
      "Train: [13900/159062 (38%)]\tLoss: 0.532909\n",
      "Train: [28050/159062 (57%)]\tLoss: 0.522804\n",
      "Train: [38000/159062 (75%)]\tLoss: 0.524892\n",
      "Train: [47250/159062 (94%)]\tLoss: 0.536456\n",
      "Epoch: Epoch: 5/75 \tTraining Loss: 0.525369 \tValidation Loss: 0.572856\n",
      "Train: [0/159062 (0%)]\tLoss: 0.529143\n",
      "Train: [6750/159062 (19%)]\tLoss: 0.512758\n",
      "Train: [15500/159062 (38%)]\tLoss: 0.521502\n",
      "Train: [32250/159062 (57%)]\tLoss: 0.523436\n",
      "Train: [35600/159062 (75%)]\tLoss: 0.522343\n",
      "Train: [55000/159062 (94%)]\tLoss: 0.526631\n",
      "Epoch: Epoch: 6/75 \tTraining Loss: 0.521499 \tValidation Loss: 0.527381\n",
      "Train: [0/159062 (0%)]\tLoss: 0.559570\n",
      "Train: [8500/159062 (19%)]\tLoss: 0.533628\n",
      "Train: [16100/159062 (38%)]\tLoss: 0.528035\n",
      "Train: [19200/159062 (57%)]\tLoss: 0.534825\n",
      "Train: [44000/159062 (75%)]\tLoss: 0.528574\n",
      "Train: [48500/159062 (94%)]\tLoss: 0.531453\n",
      "Epoch: Epoch: 7/75 \tTraining Loss: 0.531589 \tValidation Loss: 0.533833\n",
      "Train: [0/159062 (0%)]\tLoss: 0.519476\n",
      "Train: [9000/159062 (19%)]\tLoss: 0.522111\n",
      "Train: [16400/159062 (38%)]\tLoss: 0.527868\n",
      "Train: [16950/159062 (57%)]\tLoss: 0.523604\n",
      "Train: [40800/159062 (75%)]\tLoss: 0.530048\n",
      "Train: [46750/159062 (94%)]\tLoss: 0.526386\n",
      "Epoch: Epoch: 8/75 \tTraining Loss: 0.526740 \tValidation Loss: 0.534324\n",
      "Train: [0/159062 (0%)]\tLoss: 0.528158\n",
      "Train: [7550/159062 (19%)]\tLoss: 0.546289\n",
      "Train: [13300/159062 (38%)]\tLoss: 0.545705\n",
      "Train: [18150/159062 (57%)]\tLoss: 0.538259\n",
      "Train: [34600/159062 (75%)]\tLoss: 0.530382\n",
      "Train: [42750/159062 (94%)]\tLoss: 0.533224\n",
      "Epoch: Epoch: 9/75 \tTraining Loss: 0.538470 \tValidation Loss: 0.545371\n",
      "Train: [0/159062 (0%)]\tLoss: 0.519543\n",
      "Train: [7150/159062 (19%)]\tLoss: 0.537291\n",
      "Train: [15200/159062 (38%)]\tLoss: 0.537737\n",
      "Train: [25200/159062 (57%)]\tLoss: 0.538632\n",
      "Train: [28400/159062 (75%)]\tLoss: 0.528747\n",
      "Train: [42500/159062 (94%)]\tLoss: 0.523407\n",
      "Epoch: Epoch: 10/75 \tTraining Loss: 0.532180 \tValidation Loss: 0.520843\n",
      "Train: [0/159062 (0%)]\tLoss: 0.512292\n",
      "Train: [8750/159062 (19%)]\tLoss: 0.522109\n",
      "Train: [17700/159062 (38%)]\tLoss: 0.531998\n",
      "Train: [28500/159062 (57%)]\tLoss: 0.528011\n",
      "Train: [53400/159062 (75%)]\tLoss: 0.513134\n",
      "Train: [55250/159062 (94%)]\tLoss: 0.516595\n",
      "Epoch: Epoch: 11/75 \tTraining Loss: 0.521848 \tValidation Loss: 0.522169\n",
      "Train: [0/159062 (0%)]\tLoss: 0.533642\n",
      "Train: [5450/159062 (19%)]\tLoss: 0.520725\n",
      "Train: [16500/159062 (38%)]\tLoss: 0.507301\n",
      "Train: [23100/159062 (57%)]\tLoss: 0.507776\n",
      "Train: [34800/159062 (75%)]\tLoss: 0.525925\n",
      "Train: [42500/159062 (94%)]\tLoss: 0.529992\n",
      "Epoch: Epoch: 12/75 \tTraining Loss: 0.517406 \tValidation Loss: 0.522963\n",
      "Train: [0/159062 (0%)]\tLoss: 0.506747\n",
      "Train: [7650/159062 (19%)]\tLoss: 0.519514\n",
      "Train: [18800/159062 (38%)]\tLoss: 0.562135\n",
      "Train: [25800/159062 (57%)]\tLoss: 0.605523\n",
      "Train: [36000/159062 (75%)]\tLoss: 0.607942\n",
      "Train: [39500/159062 (94%)]\tLoss: 0.609053\n",
      "Epoch: Epoch: 13/75 \tTraining Loss: 0.580828 \tValidation Loss: 0.612550\n",
      "Train: [0/159062 (0%)]\tLoss: 0.676248\n",
      "Train: [8300/159062 (19%)]\tLoss: 0.623470\n",
      "Train: [17000/159062 (38%)]\tLoss: 0.603671\n",
      "Train: [26400/159062 (57%)]\tLoss: 0.600239\n",
      "Train: [29800/159062 (75%)]\tLoss: 0.611417\n",
      "Train: [41000/159062 (94%)]\tLoss: 0.590185\n",
      "Epoch: Epoch: 14/75 \tTraining Loss: 0.604631 \tValidation Loss: 0.599311\n",
      "Train: [0/159062 (0%)]\tLoss: 0.480281\n",
      "Train: [8950/159062 (19%)]\tLoss: 0.579758\n",
      "Train: [14200/159062 (38%)]\tLoss: 0.590800\n",
      "Train: [31950/159062 (57%)]\tLoss: 0.648559\n",
      "Train: [23400/159062 (75%)]\tLoss: 0.660393\n",
      "Train: [50750/159062 (94%)]\tLoss: 0.678670\n",
      "Epoch: Epoch: 15/75 \tTraining Loss: 0.631971 \tValidation Loss: 0.645002\n",
      "Train: [0/159062 (0%)]\tLoss: 0.662424\n",
      "Train: [12500/159062 (19%)]\tLoss: 0.692494\n",
      "Train: [17300/159062 (38%)]\tLoss: 0.659081\n",
      "Train: [29700/159062 (57%)]\tLoss: 0.704523\n",
      "Train: [50800/159062 (75%)]\tLoss: 0.726782\n",
      "Train: [29000/159062 (94%)]\tLoss: 0.740725\n",
      "Epoch: Epoch: 16/75 \tTraining Loss: 0.701453 \tValidation Loss: 0.704779\n",
      "Train: [0/159062 (0%)]\tLoss: 0.794554\n",
      "Train: [10200/159062 (19%)]\tLoss: 0.667351\n",
      "Train: [16200/159062 (38%)]\tLoss: 0.710018\n",
      "Train: [29850/159062 (57%)]\tLoss: 0.666836\n",
      "Train: [41600/159062 (75%)]\tLoss: 0.673215\n",
      "Train: [42750/159062 (94%)]\tLoss: 0.683480\n",
      "Epoch: Epoch: 17/75 \tTraining Loss: 0.680260 \tValidation Loss: 0.703255\n",
      "Train: [0/159062 (0%)]\tLoss: 0.449235\n",
      "Train: [8900/159062 (19%)]\tLoss: 0.704895\n",
      "Train: [17200/159062 (38%)]\tLoss: 0.627813\n",
      "Train: [28350/159062 (57%)]\tLoss: 0.626541\n",
      "Train: [39200/159062 (75%)]\tLoss: 0.624950\n",
      "Train: [45000/159062 (94%)]\tLoss: 0.674413\n",
      "Epoch: Epoch: 18/75 \tTraining Loss: 0.653888 \tValidation Loss: 0.643212\n",
      "Train: [0/159062 (0%)]\tLoss: 0.560659\n",
      "Train: [5750/159062 (19%)]\tLoss: 0.681389\n",
      "Train: [23900/159062 (38%)]\tLoss: 0.710884\n",
      "Train: [28200/159062 (57%)]\tLoss: 0.683213\n",
      "Train: [36600/159062 (75%)]\tLoss: 0.733150\n",
      "Train: [42000/159062 (94%)]\tLoss: 0.747329\n",
      "Epoch: Epoch: 19/75 \tTraining Loss: 0.709992 \tValidation Loss: 0.763516\n",
      "Train: [0/159062 (0%)]\tLoss: 0.388709\n",
      "Train: [8950/159062 (19%)]\tLoss: 0.691028\n",
      "Train: [17000/159062 (38%)]\tLoss: 0.804030\n",
      "Train: [29850/159062 (57%)]\tLoss: 0.933967\n",
      "Train: [25600/159062 (75%)]\tLoss: 0.796768\n",
      "Train: [47000/159062 (94%)]\tLoss: 0.721836\n",
      "Epoch: Epoch: 20/75 \tTraining Loss: 0.789585 \tValidation Loss: 0.781329\n",
      "Train: [0/159062 (0%)]\tLoss: 0.775287\n",
      "Train: [6300/159062 (19%)]\tLoss: 0.776707\n",
      "Train: [17600/159062 (38%)]\tLoss: 0.762611\n",
      "Train: [16500/159062 (57%)]\tLoss: 0.760811\n",
      "Train: [31600/159062 (75%)]\tLoss: 0.810230\n",
      "Train: [55500/159062 (94%)]\tLoss: 0.751530\n",
      "Epoch: Epoch: 21/75 \tTraining Loss: 0.768083 \tValidation Loss: 0.668400\n",
      "Train: [0/159062 (0%)]\tLoss: 0.535014\n",
      "Train: [9900/159062 (19%)]\tLoss: 0.627496\n",
      "Train: [20900/159062 (38%)]\tLoss: 0.702425\n",
      "Train: [20850/159062 (57%)]\tLoss: 0.714877\n",
      "Train: [35400/159062 (75%)]\tLoss: 0.716047\n",
      "Train: [38000/159062 (94%)]\tLoss: 0.721063\n",
      "Epoch: Epoch: 22/75 \tTraining Loss: 0.692231 \tValidation Loss: 0.699529\n",
      "Train: [0/159062 (0%)]\tLoss: 0.791314\n",
      "Train: [8550/159062 (19%)]\tLoss: 0.716004\n",
      "Train: [14200/159062 (38%)]\tLoss: 0.818557\n",
      "Train: [20700/159062 (57%)]\tLoss: 0.903403\n",
      "Train: [36800/159062 (75%)]\tLoss: 0.605344\n",
      "Train: [53250/159062 (94%)]\tLoss: 0.550544\n",
      "Epoch: Epoch: 23/75 \tTraining Loss: 0.711340 \tValidation Loss: 0.566187\n",
      "Train: [0/159062 (0%)]\tLoss: 0.574556\n",
      "Train: [9200/159062 (19%)]\tLoss: 0.581672\n",
      "Train: [17600/159062 (38%)]\tLoss: 0.585282\n",
      "Train: [28350/159062 (57%)]\tLoss: 0.574169\n",
      "Train: [30400/159062 (75%)]\tLoss: 0.597134\n",
      "Train: [50000/159062 (94%)]\tLoss: 0.568436\n",
      "Epoch: Epoch: 24/75 \tTraining Loss: 0.582448 \tValidation Loss: 0.604893\n",
      "Train: [0/159062 (0%)]\tLoss: 0.627167\n",
      "Train: [7150/159062 (19%)]\tLoss: 0.596319\n",
      "Train: [16600/159062 (38%)]\tLoss: 0.621302\n",
      "Train: [25050/159062 (57%)]\tLoss: 0.597013\n",
      "Train: [28200/159062 (75%)]\tLoss: 0.574172\n",
      "Train: [38750/159062 (94%)]\tLoss: 0.556489\n",
      "Epoch: Epoch: 25/75 \tTraining Loss: 0.588322 \tValidation Loss: 0.554193\n"
     ]
    },
    {
     "name": "stdout",
     "output_type": "stream",
     "text": [
      "Train: [0/159062 (0%)]\tLoss: 0.614706\n",
      "Train: [8950/159062 (19%)]\tLoss: 0.563523\n",
      "Train: [14500/159062 (38%)]\tLoss: 0.554709\n",
      "Train: [33150/159062 (57%)]\tLoss: 0.555434\n",
      "Train: [30200/159062 (75%)]\tLoss: 0.557063\n",
      "Train: [44250/159062 (94%)]\tLoss: 0.548932\n",
      "Epoch: Epoch: 26/75 \tTraining Loss: 0.556134 \tValidation Loss: 0.564873\n",
      "Train: [0/159062 (0%)]\tLoss: 0.533178\n",
      "Train: [8750/159062 (19%)]\tLoss: 0.565421\n",
      "Train: [15600/159062 (38%)]\tLoss: 0.549595\n",
      "Train: [27450/159062 (57%)]\tLoss: 0.552903\n",
      "Train: [43600/159062 (75%)]\tLoss: 0.559281\n",
      "Train: [39750/159062 (94%)]\tLoss: 0.595612\n",
      "Epoch: Epoch: 27/75 \tTraining Loss: 0.567555 \tValidation Loss: 0.624589\n",
      "Train: [0/159062 (0%)]\tLoss: 0.685044\n",
      "Train: [10050/159062 (19%)]\tLoss: 0.641561\n",
      "Train: [14200/159062 (38%)]\tLoss: 0.655416\n",
      "Train: [25200/159062 (57%)]\tLoss: 0.683428\n",
      "Train: [39400/159062 (75%)]\tLoss: 0.652074\n",
      "Train: [60750/159062 (94%)]\tLoss: 0.677015\n",
      "Epoch: Epoch: 28/75 \tTraining Loss: 0.663880 \tValidation Loss: 0.637358\n",
      "Train: [0/159062 (0%)]\tLoss: 0.438589\n",
      "Train: [7850/159062 (19%)]\tLoss: 0.683228\n",
      "Train: [19200/159062 (38%)]\tLoss: 0.666237\n",
      "Train: [23400/159062 (57%)]\tLoss: 0.633036\n",
      "Train: [51200/159062 (75%)]\tLoss: 0.880770\n",
      "Train: [45750/159062 (94%)]\tLoss: 0.910997\n",
      "Epoch: Epoch: 29/75 \tTraining Loss: 0.773285 \tValidation Loss: 0.889492\n",
      "Train: [0/159062 (0%)]\tLoss: 1.839943\n",
      "Train: [11700/159062 (19%)]\tLoss: 0.974061\n",
      "Train: [14800/159062 (38%)]\tLoss: 0.666237\n",
      "Train: [28950/159062 (57%)]\tLoss: 0.761966\n",
      "Train: [43400/159062 (75%)]\tLoss: 0.608727\n",
      "Train: [41250/159062 (94%)]\tLoss: 0.612424\n",
      "Epoch: Epoch: 30/75 \tTraining Loss: 0.729234 \tValidation Loss: 0.587198\n",
      "Train: [0/159062 (0%)]\tLoss: 0.656504\n",
      "Train: [7900/159062 (19%)]\tLoss: 0.646843\n",
      "Train: [15100/159062 (38%)]\tLoss: 0.641255\n",
      "Train: [31800/159062 (57%)]\tLoss: 0.673556\n",
      "Train: [35000/159062 (75%)]\tLoss: 0.660601\n",
      "Train: [38250/159062 (94%)]\tLoss: 0.606702\n",
      "Epoch: Epoch: 31/75 \tTraining Loss: 0.643708 \tValidation Loss: 0.626627\n",
      "Train: [0/159062 (0%)]\tLoss: 0.597420\n",
      "Train: [10700/159062 (19%)]\tLoss: 0.589000\n",
      "Train: [14800/159062 (38%)]\tLoss: 0.599962\n",
      "Train: [27000/159062 (57%)]\tLoss: 0.579847\n",
      "Train: [26400/159062 (75%)]\tLoss: 0.596908\n",
      "Train: [35750/159062 (94%)]\tLoss: 0.588750\n",
      "Epoch: Epoch: 32/75 \tTraining Loss: 0.588965 \tValidation Loss: 0.596622\n",
      "Train: [0/159062 (0%)]\tLoss: 0.671749\n",
      "Train: [9000/159062 (19%)]\tLoss: 0.576578\n",
      "Train: [22300/159062 (38%)]\tLoss: 0.599352\n",
      "Train: [26850/159062 (57%)]\tLoss: 0.580728\n",
      "Train: [35600/159062 (75%)]\tLoss: 0.595895\n",
      "Train: [42250/159062 (94%)]\tLoss: 0.601383\n",
      "Epoch: Epoch: 33/75 \tTraining Loss: 0.593070 \tValidation Loss: 0.595322\n",
      "Train: [0/159062 (0%)]\tLoss: 0.641754\n",
      "Train: [7900/159062 (19%)]\tLoss: 0.605066\n",
      "Train: [16400/159062 (38%)]\tLoss: 0.596027\n",
      "Train: [24000/159062 (57%)]\tLoss: 0.632800\n",
      "Train: [26800/159062 (75%)]\tLoss: 0.625328\n",
      "Train: [37750/159062 (94%)]\tLoss: 0.615474\n",
      "Epoch: Epoch: 34/75 \tTraining Loss: 0.615456 \tValidation Loss: 0.642416\n",
      "Train: [0/159062 (0%)]\tLoss: 0.634601\n",
      "Train: [7850/159062 (19%)]\tLoss: 0.621524\n",
      "Train: [16000/159062 (38%)]\tLoss: 0.613609\n",
      "Train: [27000/159062 (57%)]\tLoss: 0.612796\n",
      "Train: [38200/159062 (75%)]\tLoss: 0.642094\n",
      "Train: [46000/159062 (94%)]\tLoss: 0.632587\n",
      "Epoch: Epoch: 35/75 \tTraining Loss: 0.623102 \tValidation Loss: 0.627073\n",
      "Train: [0/159062 (0%)]\tLoss: 0.647438\n",
      "Train: [10950/159062 (19%)]\tLoss: 0.614834\n",
      "Train: [12500/159062 (38%)]\tLoss: 0.639984\n",
      "Train: [23850/159062 (57%)]\tLoss: 0.652651\n",
      "Train: [35800/159062 (75%)]\tLoss: 0.662419\n",
      "Train: [48250/159062 (94%)]\tLoss: 0.664882\n",
      "Epoch: Epoch: 36/75 \tTraining Loss: 0.646674 \tValidation Loss: 0.614689\n",
      "Train: [0/159062 (0%)]\tLoss: 0.682247\n",
      "Train: [6500/159062 (19%)]\tLoss: 0.631180\n",
      "Train: [15900/159062 (38%)]\tLoss: 0.660277\n",
      "Train: [26100/159062 (57%)]\tLoss: 0.652614\n",
      "Train: [24400/159062 (75%)]\tLoss: 0.701448\n",
      "Train: [39250/159062 (94%)]\tLoss: 0.776316\n",
      "Epoch: Epoch: 37/75 \tTraining Loss: 0.691330 \tValidation Loss: 0.777457\n",
      "Train: [0/159062 (0%)]\tLoss: 0.698189\n",
      "Train: [6850/159062 (19%)]\tLoss: 0.798767\n",
      "Train: [23200/159062 (38%)]\tLoss: 0.719536\n",
      "Train: [23550/159062 (57%)]\tLoss: 0.672859\n",
      "Train: [43800/159062 (75%)]\tLoss: 0.676340\n",
      "Train: [46750/159062 (94%)]\tLoss: 0.657006\n",
      "Epoch: Epoch: 38/75 \tTraining Loss: 0.701363 \tValidation Loss: 0.724733\n",
      "Train: [0/159062 (0%)]\tLoss: 0.648153\n",
      "Train: [6950/159062 (19%)]\tLoss: 0.662361\n",
      "Train: [13900/159062 (38%)]\tLoss: 0.667607\n",
      "Train: [28500/159062 (57%)]\tLoss: 0.660219\n",
      "Train: [42400/159062 (75%)]\tLoss: 0.642077\n",
      "Train: [36500/159062 (94%)]\tLoss: 0.684571\n",
      "Epoch: Epoch: 39/75 \tTraining Loss: 0.673338 \tValidation Loss: 3070.152120\n",
      "Train: [0/159062 (0%)]\tLoss: 0.636664\n",
      "Train: [8200/159062 (19%)]\tLoss: 1.020026\n",
      "Train: [15300/159062 (38%)]\tLoss: 2563.974716\n",
      "Train: [26850/159062 (57%)]\tLoss: 0.620541\n",
      "Train: [34400/159062 (75%)]\tLoss: 0.624650\n",
      "Train: [38750/159062 (94%)]\tLoss: 0.596406\n",
      "Epoch: Epoch: 40/75 \tTraining Loss: 484.344878 \tValidation Loss: 0.624805\n",
      "Train: [0/159062 (0%)]\tLoss: 0.684257\n",
      "Train: [6450/159062 (19%)]\tLoss: 0.612359\n",
      "Train: [21100/159062 (38%)]\tLoss: 0.637631\n",
      "Train: [22800/159062 (57%)]\tLoss: 0.590120\n",
      "Train: [36200/159062 (75%)]\tLoss: 0.607457\n",
      "Train: [56500/159062 (94%)]\tLoss: 0.566233\n",
      "Epoch: Epoch: 41/75 \tTraining Loss: 0.598519 \tValidation Loss: 0.577659\n",
      "Train: [0/159062 (0%)]\tLoss: 0.623745\n",
      "Train: [9900/159062 (19%)]\tLoss: 0.605717\n",
      "Train: [19300/159062 (38%)]\tLoss: 0.592674\n",
      "Train: [33900/159062 (57%)]\tLoss: 0.596956\n",
      "Train: [40800/159062 (75%)]\tLoss: 0.601153\n",
      "Train: [46000/159062 (94%)]\tLoss: 403.736394\n",
      "Epoch: Epoch: 42/75 \tTraining Loss: 76.663625 \tValidation Loss: 0.671870\n",
      "Train: [0/159062 (0%)]\tLoss: 0.549953\n",
      "Train: [9900/159062 (19%)]\tLoss: 0.598912\n",
      "Train: [21000/159062 (38%)]\tLoss: 0.567069\n",
      "Train: [23250/159062 (57%)]\tLoss: 0.549221\n",
      "Train: [22800/159062 (75%)]\tLoss: 0.528718\n",
      "Train: [51750/159062 (94%)]\tLoss: 0.599596\n",
      "Epoch: Epoch: 43/75 \tTraining Loss: 0.564978 \tValidation Loss: 0.575124\n",
      "Train: [0/159062 (0%)]\tLoss: 0.791428\n",
      "Train: [10500/159062 (19%)]\tLoss: 417.561681\n",
      "Train: [21100/159062 (38%)]\tLoss: 0.615367\n",
      "Train: [26700/159062 (57%)]\tLoss: 0.615416\n",
      "Train: [30200/159062 (75%)]\tLoss: 0.658704\n",
      "Train: [48750/159062 (94%)]\tLoss: 0.651588\n",
      "Epoch: Epoch: 44/75 \tTraining Loss: 79.303334 \tValidation Loss: 0.751376\n",
      "Train: [0/159062 (0%)]\tLoss: 0.726300\n",
      "Train: [10600/159062 (19%)]\tLoss: 0.630985\n",
      "Train: [20500/159062 (38%)]\tLoss: 0.601858\n",
      "Train: [28650/159062 (57%)]\tLoss: 0.611015\n",
      "Train: [40200/159062 (75%)]\tLoss: 0.598328\n",
      "Train: [41000/159062 (94%)]\tLoss: 0.648011\n",
      "Epoch: Epoch: 45/75 \tTraining Loss: 0.622317 \tValidation Loss: 0.717481\n",
      "Train: [0/159062 (0%)]\tLoss: 0.504139\n",
      "Train: [9900/159062 (19%)]\tLoss: 0.634256\n",
      "Train: [15300/159062 (38%)]\tLoss: 0.625714\n",
      "Train: [19650/159062 (57%)]\tLoss: 0.672674\n",
      "Train: [40000/159062 (75%)]\tLoss: 0.667201\n",
      "Train: [34750/159062 (94%)]\tLoss: 0.656145\n",
      "Epoch: Epoch: 46/75 \tTraining Loss: 0.655186 \tValidation Loss: 0.733911\n",
      "Train: [0/159062 (0%)]\tLoss: 0.610647\n",
      "Train: [9100/159062 (19%)]\tLoss: 0.676492\n",
      "Train: [20200/159062 (38%)]\tLoss: 0.737482\n",
      "Train: [29250/159062 (57%)]\tLoss: 0.658725\n",
      "Train: [32600/159062 (75%)]\tLoss: 0.662225\n",
      "Train: [50500/159062 (94%)]\tLoss: 357.490260\n",
      "Epoch: Epoch: 47/75 \tTraining Loss: 68.001535 \tValidation Loss: 0.655001\n",
      "Train: [0/159062 (0%)]\tLoss: 0.739369\n",
      "Train: [6750/159062 (19%)]\tLoss: 0.647795\n",
      "Train: [20600/159062 (38%)]\tLoss: 0.643428\n",
      "Train: [29850/159062 (57%)]\tLoss: 0.654860\n",
      "Train: [30800/159062 (75%)]\tLoss: 0.705684\n",
      "Train: [43750/159062 (94%)]\tLoss: 0.583627\n",
      "Epoch: Epoch: 48/75 \tTraining Loss: 0.642685 \tValidation Loss: 0.647602\n",
      "Train: [0/159062 (0%)]\tLoss: 0.843975\n",
      "Train: [8400/159062 (19%)]\tLoss: 0.585193\n",
      "Train: [15300/159062 (38%)]\tLoss: 0.599739\n",
      "Train: [30750/159062 (57%)]\tLoss: 0.571123\n",
      "Train: [33200/159062 (75%)]\tLoss: 0.544157\n",
      "Train: [31750/159062 (94%)]\tLoss: 0.543115\n",
      "Epoch: Epoch: 49/75 \tTraining Loss: 0.568575 \tValidation Loss: 0.568031\n",
      "Train: [0/159062 (0%)]\tLoss: 0.474906\n",
      "Train: [8650/159062 (19%)]\tLoss: 0.595335\n",
      "Train: [15400/159062 (38%)]\tLoss: 0.584356\n",
      "Train: [28200/159062 (57%)]\tLoss: 0.577188\n",
      "Train: [48000/159062 (75%)]\tLoss: 0.566777\n",
      "Train: [52250/159062 (94%)]\tLoss: 0.522323\n",
      "Epoch: Epoch: 50/75 \tTraining Loss: 0.573886 \tValidation Loss: 0.624785\n",
      "Train: [0/159062 (0%)]\tLoss: 0.955943\n",
      "Train: [7550/159062 (19%)]\tLoss: 0.563267\n"
     ]
    },
    {
     "name": "stdout",
     "output_type": "stream",
     "text": [
      "Train: [18300/159062 (38%)]\tLoss: 0.645506\n",
      "Train: [28350/159062 (57%)]\tLoss: 0.670024\n",
      "Train: [28000/159062 (75%)]\tLoss: 0.612149\n",
      "Train: [45500/159062 (94%)]\tLoss: 0.594843\n",
      "Epoch: Epoch: 51/75 \tTraining Loss: 0.624055 \tValidation Loss: 0.637650\n",
      "Train: [0/159062 (0%)]\tLoss: 0.667560\n",
      "Train: [8050/159062 (19%)]\tLoss: 0.611527\n",
      "Train: [15800/159062 (38%)]\tLoss: 0.623285\n",
      "Train: [19350/159062 (57%)]\tLoss: 0.638120\n",
      "Train: [26400/159062 (75%)]\tLoss: 0.666372\n",
      "Train: [52500/159062 (94%)]\tLoss: 0.688779\n",
      "Epoch: Epoch: 52/75 \tTraining Loss: 0.644183 \tValidation Loss: 0.699884\n",
      "Train: [0/159062 (0%)]\tLoss: 0.460899\n",
      "Train: [9200/159062 (19%)]\tLoss: 0.651637\n",
      "Train: [15600/159062 (38%)]\tLoss: 0.597407\n",
      "Train: [28800/159062 (57%)]\tLoss: 0.602753\n",
      "Train: [39600/159062 (75%)]\tLoss: 0.614181\n",
      "Train: [46500/159062 (94%)]\tLoss: 0.589383\n",
      "Epoch: Epoch: 53/75 \tTraining Loss: 0.607344 \tValidation Loss: 0.559317\n",
      "Train: [0/159062 (0%)]\tLoss: 0.543273\n",
      "Train: [8150/159062 (19%)]\tLoss: 0.579614\n",
      "Train: [13100/159062 (38%)]\tLoss: 0.578739\n",
      "Train: [26550/159062 (57%)]\tLoss: 0.596191\n",
      "Train: [37000/159062 (75%)]\tLoss: 0.616879\n",
      "Train: [39750/159062 (94%)]\tLoss: 0.638916\n",
      "Epoch: Epoch: 54/75 \tTraining Loss: 0.602058 \tValidation Loss: 0.733899\n",
      "Train: [0/159062 (0%)]\tLoss: 0.749496\n",
      "Train: [8100/159062 (19%)]\tLoss: 0.710438\n",
      "Train: [14200/159062 (38%)]\tLoss: 0.711477\n",
      "Train: [30450/159062 (57%)]\tLoss: 0.803187\n",
      "Train: [29600/159062 (75%)]\tLoss: 0.776257\n",
      "Train: [44500/159062 (94%)]\tLoss: 0.768726\n",
      "Epoch: Epoch: 55/75 \tTraining Loss: 0.754919 \tValidation Loss: 0.738784\n",
      "Train: [0/159062 (0%)]\tLoss: 0.804550\n",
      "Train: [8950/159062 (19%)]\tLoss: 0.770407\n",
      "Train: [23100/159062 (38%)]\tLoss: 0.703841\n",
      "Train: [24450/159062 (57%)]\tLoss: 0.684064\n",
      "Train: [40800/159062 (75%)]\tLoss: 0.728491\n",
      "Train: [36500/159062 (94%)]\tLoss: 0.765554\n",
      "Epoch: Epoch: 56/75 \tTraining Loss: 0.732231 \tValidation Loss: 0.778194\n",
      "Train: [0/159062 (0%)]\tLoss: 0.876362\n",
      "Train: [10550/159062 (19%)]\tLoss: 0.702193\n",
      "Train: [14000/159062 (38%)]\tLoss: 0.697248\n",
      "Train: [26250/159062 (57%)]\tLoss: 0.783968\n",
      "Train: [36800/159062 (75%)]\tLoss: 0.741404\n",
      "Train: [49750/159062 (94%)]\tLoss: 0.673465\n",
      "Epoch: Epoch: 57/75 \tTraining Loss: 0.724737 \tValidation Loss: 0.735377\n",
      "Train: [0/159062 (0%)]\tLoss: 0.403263\n",
      "Train: [9300/159062 (19%)]\tLoss: 0.718385\n",
      "Train: [16400/159062 (38%)]\tLoss: 0.748039\n",
      "Train: [26400/159062 (57%)]\tLoss: 0.766056\n",
      "Train: [39600/159062 (75%)]\tLoss: 0.730008\n",
      "Train: [45250/159062 (94%)]\tLoss: 0.878091\n",
      "Epoch: Epoch: 58/75 \tTraining Loss: 0.767574 \tValidation Loss: 0.841478\n",
      "Train: [0/159062 (0%)]\tLoss: 0.802376\n",
      "Train: [8300/159062 (19%)]\tLoss: 0.732597\n",
      "Train: [14900/159062 (38%)]\tLoss: 0.729825\n",
      "Train: [25800/159062 (57%)]\tLoss: 0.683161\n",
      "Train: [33600/159062 (75%)]\tLoss: 0.781964\n",
      "Train: [51750/159062 (94%)]\tLoss: 0.707538\n",
      "Epoch: Epoch: 59/75 \tTraining Loss: 0.722374 \tValidation Loss: 0.578477\n",
      "Train: [0/159062 (0%)]\tLoss: 0.676778\n",
      "Train: [7750/159062 (19%)]\tLoss: 0.668229\n",
      "Train: [16600/159062 (38%)]\tLoss: 0.698597\n",
      "Train: [19650/159062 (57%)]\tLoss: 0.661706\n",
      "Train: [45800/159062 (75%)]\tLoss: 0.678066\n",
      "Train: [49500/159062 (94%)]\tLoss: 0.638953\n",
      "Epoch: Epoch: 60/75 \tTraining Loss: 0.663182 \tValidation Loss: 0.656840\n",
      "Train: [0/159062 (0%)]\tLoss: 0.515483\n",
      "Train: [10800/159062 (19%)]\tLoss: 0.679523\n",
      "Train: [14300/159062 (38%)]\tLoss: 0.698389\n",
      "Train: [18300/159062 (57%)]\tLoss: 0.642907\n",
      "Train: [32200/159062 (75%)]\tLoss: 0.638996\n",
      "Train: [36500/159062 (94%)]\tLoss: 0.644680\n",
      "Epoch: Epoch: 61/75 \tTraining Loss: 0.656406 \tValidation Loss: 0.656739\n",
      "Train: [0/159062 (0%)]\tLoss: 0.424683\n",
      "Train: [8600/159062 (19%)]\tLoss: 0.594654\n",
      "Train: [10700/159062 (38%)]\tLoss: 0.576805\n",
      "Train: [24900/159062 (57%)]\tLoss: 0.575068\n",
      "Train: [35600/159062 (75%)]\tLoss: 0.602117\n",
      "Train: [37000/159062 (94%)]\tLoss: 0.600577\n",
      "Epoch: Epoch: 62/75 \tTraining Loss: 0.589611 \tValidation Loss: 0.629655\n",
      "Train: [0/159062 (0%)]\tLoss: 0.443558\n",
      "Train: [9800/159062 (19%)]\tLoss: 0.615461\n",
      "Train: [15400/159062 (38%)]\tLoss: 0.625850\n",
      "Train: [32250/159062 (57%)]\tLoss: 0.606847\n",
      "Train: [44800/159062 (75%)]\tLoss: 0.632993\n",
      "Train: [35750/159062 (94%)]\tLoss: 0.653399\n",
      "Epoch: Epoch: 63/75 \tTraining Loss: 0.630265 \tValidation Loss: 0.664698\n",
      "Train: [0/159062 (0%)]\tLoss: 0.654158\n",
      "Train: [7500/159062 (19%)]\tLoss: 0.689885\n",
      "Train: [16800/159062 (38%)]\tLoss: 0.685181\n",
      "Train: [27300/159062 (57%)]\tLoss: 0.704159\n",
      "Train: [27600/159062 (75%)]\tLoss: 0.688393\n",
      "Train: [37500/159062 (94%)]\tLoss: 0.699647\n",
      "Epoch: Epoch: 64/75 \tTraining Loss: 0.694489 \tValidation Loss: 0.719891\n",
      "Train: [0/159062 (0%)]\tLoss: 0.987836\n",
      "Train: [8850/159062 (19%)]\tLoss: 0.660837\n",
      "Train: [17900/159062 (38%)]\tLoss: 0.658834\n",
      "Train: [30000/159062 (57%)]\tLoss: 0.680017\n",
      "Train: [28600/159062 (75%)]\tLoss: 0.654156\n",
      "Train: [47500/159062 (94%)]\tLoss: 0.661746\n",
      "Epoch: Epoch: 65/75 \tTraining Loss: 0.670491 \tValidation Loss: 0.626561\n",
      "Train: [0/159062 (0%)]\tLoss: 0.472608\n",
      "Train: [6800/159062 (19%)]\tLoss: 0.659946\n",
      "Train: [19000/159062 (38%)]\tLoss: 0.634560\n",
      "Train: [25350/159062 (57%)]\tLoss: 0.667870\n",
      "Train: [38400/159062 (75%)]\tLoss: 0.561086\n",
      "Train: [35000/159062 (94%)]\tLoss: 0.599099\n",
      "Epoch: Epoch: 66/75 \tTraining Loss: 0.622927 \tValidation Loss: 0.570991\n",
      "Train: [0/159062 (0%)]\tLoss: 0.468162\n",
      "Train: [7850/159062 (19%)]\tLoss: 0.553590\n",
      "Train: [24000/159062 (38%)]\tLoss: 0.584697\n",
      "Train: [32250/159062 (57%)]\tLoss: 0.574952\n",
      "Train: [32600/159062 (75%)]\tLoss: 0.572040\n",
      "Train: [46250/159062 (94%)]\tLoss: 0.686132\n",
      "Epoch: Epoch: 67/75 \tTraining Loss: 0.598486 \tValidation Loss: 0.787416\n",
      "Train: [0/159062 (0%)]\tLoss: 0.583737\n",
      "Train: [9600/159062 (19%)]\tLoss: 0.708797\n",
      "Train: [15600/159062 (38%)]\tLoss: 0.672556\n",
      "Train: [27450/159062 (57%)]\tLoss: 0.602012\n",
      "Train: [40600/159062 (75%)]\tLoss: 0.690715\n",
      "Train: [38000/159062 (94%)]\tLoss: 0.773249\n",
      "Epoch: Epoch: 68/75 \tTraining Loss: 0.685166 \tValidation Loss: 0.766196\n",
      "Train: [0/159062 (0%)]\tLoss: 0.739404\n",
      "Train: [12150/159062 (19%)]\tLoss: 0.780071\n",
      "Train: [13300/159062 (38%)]\tLoss: 0.756084\n",
      "Train: [24600/159062 (57%)]\tLoss: 0.850246\n",
      "Train: [25800/159062 (75%)]\tLoss: 0.784783\n",
      "Train: [52250/159062 (94%)]\tLoss: 0.739967\n",
      "Epoch: Epoch: 69/75 \tTraining Loss: 0.785145 \tValidation Loss: 0.740545\n",
      "Train: [0/159062 (0%)]\tLoss: 0.520763\n",
      "Train: [6950/159062 (19%)]\tLoss: 0.695468\n",
      "Train: [19100/159062 (38%)]\tLoss: 0.667951\n",
      "Train: [34050/159062 (57%)]\tLoss: 952.150532\n",
      "Train: [36000/159062 (75%)]\tLoss: 0.746756\n",
      "Train: [45500/159062 (94%)]\tLoss: 367.092947\n",
      "Epoch: Epoch: 70/75 \tTraining Loss: 249.349580 \tValidation Loss: 0.530448\n",
      "Train: [0/159062 (0%)]\tLoss: 0.655666\n",
      "Train: [9850/159062 (19%)]\tLoss: 0.578940\n",
      "Train: [20500/159062 (38%)]\tLoss: 0.560251\n",
      "Train: [33000/159062 (57%)]\tLoss: 0.585137\n",
      "Train: [43800/159062 (75%)]\tLoss: 0.571117\n",
      "Train: [50500/159062 (94%)]\tLoss: 0.571260\n",
      "Epoch: Epoch: 71/75 \tTraining Loss: 0.573545 \tValidation Loss: 0.566332\n",
      "Train: [0/159062 (0%)]\tLoss: 0.328331\n",
      "Train: [8900/159062 (19%)]\tLoss: 0.596671\n",
      "Train: [23700/159062 (38%)]\tLoss: 0.559069\n",
      "Train: [27000/159062 (57%)]\tLoss: 0.599400\n",
      "Train: [32000/159062 (75%)]\tLoss: 0.563101\n",
      "Train: [44500/159062 (94%)]\tLoss: 0.578501\n",
      "Epoch: Epoch: 72/75 \tTraining Loss: 0.577183 \tValidation Loss: 0.543154\n",
      "Train: [0/159062 (0%)]\tLoss: 0.510674\n",
      "Train: [10550/159062 (19%)]\tLoss: 0.551157\n",
      "Train: [18400/159062 (38%)]\tLoss: 0.554532\n",
      "Train: [23700/159062 (57%)]\tLoss: 0.536464\n",
      "Train: [41400/159062 (75%)]\tLoss: 0.549788\n",
      "Train: [47250/159062 (94%)]\tLoss: 0.557540\n",
      "Epoch: Epoch: 73/75 \tTraining Loss: 0.552747 \tValidation Loss: 0.619234\n",
      "Train: [0/159062 (0%)]\tLoss: 0.534404\n",
      "Train: [9550/159062 (19%)]\tLoss: 0.611560\n",
      "Train: [21500/159062 (38%)]\tLoss: 0.664186\n",
      "Train: [27150/159062 (57%)]\tLoss: 0.708148\n",
      "Train: [38000/159062 (75%)]\tLoss: 0.774549\n",
      "Train: [63750/159062 (94%)]\tLoss: 0.736597\n",
      "Epoch: Epoch: 74/75 \tTraining Loss: 0.710591 \tValidation Loss: 0.615470\n",
      "Train: [0/159062 (0%)]\tLoss: 0.305581\n",
      "Train: [7400/159062 (19%)]\tLoss: 0.678332\n",
      "Train: [17600/159062 (38%)]\tLoss: 0.678017\n",
      "Train: [24150/159062 (57%)]\tLoss: 1003.836673\n",
      "Train: [39200/159062 (75%)]\tLoss: 0.641102\n",
      "Train: [25250/159062 (94%)]\tLoss: 0.638206\n",
      "Epoch: Epoch: 75/75 \tTraining Loss: 189.935411 \tValidation Loss: 0.740061\n"
     ]
    },
    {
     "ename": "NameError",
     "evalue": "name 'EPOCH' is not defined",
     "output_type": "error",
     "traceback": [
      "\u001b[0;31m---------------------------------------------------------------------------\u001b[0m",
      "\u001b[0;31mNameError\u001b[0m                                 Traceback (most recent call last)",
      "\u001b[0;32m/tmp/ipykernel_4141/1104252063.py\u001b[0m in \u001b[0;36m<module>\u001b[0;34m\u001b[0m\n\u001b[1;32m     33\u001b[0m \u001b[0;34m\u001b[0m\u001b[0m\n\u001b[1;32m     34\u001b[0m \u001b[0;34m\u001b[0m\u001b[0m\n\u001b[0;32m---> 35\u001b[0;31m torch.save({'epoch': EPOCH,\n\u001b[0m\u001b[1;32m     36\u001b[0m             \u001b[0;34m'model_state_dict'\u001b[0m\u001b[0;34m:\u001b[0m \u001b[0mmodel\u001b[0m\u001b[0;34m.\u001b[0m\u001b[0membedding_net\u001b[0m\u001b[0;34m.\u001b[0m\u001b[0mstate_dict\u001b[0m\u001b[0;34m(\u001b[0m\u001b[0;34m)\u001b[0m\u001b[0;34m,\u001b[0m\u001b[0;34m\u001b[0m\u001b[0;34m\u001b[0m\u001b[0m\n\u001b[1;32m     37\u001b[0m             \u001b[0;34m'optimizer_state_dict'\u001b[0m\u001b[0;34m:\u001b[0m \u001b[0moptimizer\u001b[0m\u001b[0;34m.\u001b[0m\u001b[0mstate_dict\u001b[0m\u001b[0;34m(\u001b[0m\u001b[0;34m)\u001b[0m\u001b[0;34m,\u001b[0m\u001b[0;34m\u001b[0m\u001b[0;34m\u001b[0m\u001b[0m\n",
      "\u001b[0;31mNameError\u001b[0m: name 'EPOCH' is not defined"
     ]
    }
   ],
   "source": [
    "start_epoch= 0\n",
    "n_epochs= 75\n",
    "\n",
    "log_interval=50\n",
    "\n",
    "train_losses, valid_losses = [], []\n",
    "\n",
    "valid_loss_min = np.Inf # track change in validation loss\n",
    "\n",
    "for epoch in range(start_epoch, n_epochs):\n",
    "    \n",
    "    # keep track of training and validation loss\n",
    "    train_loss = 0.0\n",
    "    valid_loss = 0.0\n",
    "    \n",
    "    train_loss = train_epoch(online_train_loader, model, loss_fn, optimizer, log_interval, cuda)\n",
    "    valid_loss = test_epoch(online_valid_loader, model, loss_fn, cuda)\n",
    "\n",
    "    train_losses.append(train_loss)\n",
    "    valid_losses.append(valid_loss)\n",
    "    \n",
    "    # print training/validation statistics \n",
    "    print('Epoch: Epoch: {}/{} \\tTraining Loss: {:.6f} \\tValidation Loss: {:.6f}'.format(\n",
    "        epoch + 1, n_epochs, train_loss, valid_loss))\n",
    "         \n",
    "    \n",
    "    # save model if validation loss has decreased\n",
    "    if valid_loss <= valid_loss_min:\n",
    "        print('Validation loss decreased ({:.6f} --> {:.6f}).  Saving model ...'.format( valid_loss_min,\n",
    "                                                                                          valid_loss))\n",
    "        save_model(epoch, model, optimizer, train_loss)\n",
    "        valid_loss_min = valid_loss\n",
    "    "
   ]
  },
  {
   "cell_type": "code",
   "execution_count": 55,
   "metadata": {},
   "outputs": [],
   "source": [
    "torch.save({'epoch': 75,\n",
    "            'model_state_dict': model.embedding_net.state_dict(),\n",
    "            'optimizer_state_dict': optimizer.state_dict(),\n",
    "            'loss': 'too_much',\n",
    "           }, experiment_name+'75epoch.pt')"
   ]
  },
  {
   "cell_type": "code",
   "execution_count": 56,
   "metadata": {},
   "outputs": [],
   "source": [
    "%matplotlib inline\n",
    "%config InlineBackend.figure_format = 'retina'\n",
    "\n",
    "import matplotlib.pyplot as plt"
   ]
  },
  {
   "cell_type": "code",
   "execution_count": 58,
   "metadata": {},
   "outputs": [
    {
     "data": {
      "text/plain": [
       "<matplotlib.legend.Legend at 0x7fc297095af0>"
      ]
     },
     "execution_count": 58,
     "metadata": {},
     "output_type": "execute_result"
    },
    {
     "data": {
      "image/png": "[encoded data removed]",
      "text/plain": [
       "<Figure size 432x288 with 1 Axes>"
      ]
     },
     "metadata": {
      "image/png": {
       "height": 248,
       "width": 381
      },
      "needs_background": "light"
     },
     "output_type": "display_data"
    }
   ],
   "source": [
    "plt.plot(train_losses, label='Training loss')\n",
    "plt.plot(valid_losses, label='Validation loss')\n",
    "plt.legend(frameon=False)"
   ]
  },
  {
   "cell_type": "code",
   "execution_count": 59,
   "metadata": {},
   "outputs": [],
   "source": [
    "# write training results:\n",
    "f = open(experiment_name+ \"_result\"+\".csv\", \"w\")\n",
    "f.write('\\t'.join(('tr_er', 'val_er')))\n",
    "f.write('\\n')\n",
    "for (tr_er, val_er) in zip(train_losses, valid_losses,):\n",
    "    items= (str(tr_er),',', str(val_er))\n",
    "    f.write('\\t'.join(items))\n",
    "    f.write('\\n')\n",
    "f.close()"
   ]
  },
  {
   "cell_type": "code",
   "execution_count": null,
   "metadata": {},
   "outputs": [],
   "source": []
  },
  {
   "cell_type": "code",
   "execution_count": null,
   "metadata": {},
   "outputs": [],
   "source": []
  },
  {
   "cell_type": "code",
   "execution_count": null,
   "metadata": {},
   "outputs": [],
   "source": [
    "# Load model and optimizer from disk:\n",
    "embedding_net= torchvision.models.resnet18(pretrained=True)\n",
    "\n",
    "# Freeze training for all layers parameters:\n",
    "for param in embedding_net.parameters():\n",
    "    param.required_grad = False    \n",
    "    \n",
    "embedding_net.fc= nn.Sequential(nn.Linear(512, 128),\n",
    "                                nn.BatchNorm1d(128),\n",
    "                                nn.ReLU(),\n",
    "                                nn.Linear(128, 128), # embedding size\n",
    "                                )\n",
    "\n",
    "model= networks.TripletNet(embedding_net)\n",
    "\n",
    "import torch.optim as optim\n",
    "optimizer = optim.Adam(model.embedding_net.fc.parameters(), lr=1e-3)\n",
    "\n",
    "PATH= experiment_name+'.pt'\n",
    "check_point= torch.load(PATH)\n",
    "\n",
    "model.embedding_net.load_state_dict(check_point['model_state_dict'])\n",
    "optimizer.load_state_dict(check_point['optimizer_state_dict'])\n",
    "epoch = check_point['epoch']\n",
    "loss = check_point['loss']\n"
   ]
  },
  {
   "cell_type": "code",
   "execution_count": null,
   "metadata": {},
   "outputs": [],
   "source": [
    "import gc\n",
    "gc.collect()\n",
    "torch.cuda.empty_cache()"
   ]
  },
  {
   "cell_type": "code",
   "execution_count": null,
   "metadata": {},
   "outputs": [],
   "source": []
  },
  {
   "cell_type": "code",
   "execution_count": null,
   "metadata": {},
   "outputs": [],
   "source": []
  },
  {
   "cell_type": "code",
   "execution_count": null,
   "metadata": {},
   "outputs": [],
   "source": []
  }
 ],
 "metadata": {
  "kernelspec": {
   "display_name": "Python 3 (ipykernel)",
   "language": "python",
   "name": "python3"
  },
  "language_info": {
   "codemirror_mode": {
    "name": "ipython",
    "version": 3
   },
   "file_extension": ".py",
   "mimetype": "text/x-python",
   "name": "python",
   "nbconvert_exporter": "python",
   "pygments_lexer": "ipython3",
   "version": "3.8.8"
  },
  "vscode": {
   "interpreter": {
    "hash": "b07d01aef7908bc1aa93ad5d7ca872dfab9585ff34e79ad63dab072ec6602c12"
   }
  }
 },
 "nbformat": 4,
 "nbformat_minor": 2
}
